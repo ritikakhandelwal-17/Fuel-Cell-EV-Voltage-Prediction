{
  "nbformat": 4,
  "nbformat_minor": 0,
  "metadata": {
    "colab": {
      "provenance": [],
      "authorship_tag": "ABX9TyOI4jVGZhB8KuzbxdL7Sqr7",
      "include_colab_link": true
    },
    "kernelspec": {
      "name": "python3",
      "display_name": "Python 3"
    },
    "language_info": {
      "name": "python"
    }
  },
  "cells": [
    {
      "cell_type": "markdown",
      "metadata": {
        "id": "view-in-github",
        "colab_type": "text"
      },
      "source": [
        "<a href=\"https://colab.research.google.com/github/ritikakhandelwal-17/Fuel-Cell-EV-Voltage-Prediction/blob/main/BTP_FCEV_Voltage_Prediction_Cycle2.ipynb\" target=\"_parent\"><img src=\"https://colab.research.google.com/assets/colab-badge.svg\" alt=\"Open In Colab\"/></a>"
      ]
    },
    {
      "cell_type": "code",
      "execution_count": 16,
      "metadata": {
        "id": "e5LvVn1XLwfn"
      },
      "outputs": [],
      "source": [
        "#Import Libraries\n",
        "import matplotlib.pyplot as plt\n",
        "import pandas as pd\n",
        "from sklearn.preprocessing import MinMaxScaler\n",
        "import numpy as np\n",
        "\n",
        "\n",
        "from sklearn.metrics import mean_squared_error\n",
        "from math import sqrt\n",
        "import seaborn as sns\n",
        "from sklearn.model_selection import train_test_split, cross_val_score\n",
        "from sklearn.preprocessing import StandardScaler\n",
        "from sklearn.metrics import r2_score, mean_absolute_error, mean_squared_error, accuracy_score\n",
        "\n",
        "from sklearn.linear_model import LinearRegression\n",
        "from sklearn.linear_model import Ridge\n",
        "from sklearn.linear_model import Lasso\n",
        "from sklearn.linear_model import ElasticNet\n",
        "from sklearn.ensemble import RandomForestRegressor\n",
        "from sklearn.svm import SVR\n",
        "from xgboost import XGBRegressor\n",
        "from sklearn.preprocessing import PolynomialFeatures\n",
        "\n",
        "from keras.models import Sequential\n",
        "from keras.layers import Dense, Dropout\n",
        "from keras.callbacks import EarlyStopping\n",
        "from tensorflow.keras.wrappers.scikit_learn import KerasRegressor\n",
        "from sklearn.model_selection import GridSearchCV"
      ]
    },
    {
      "cell_type": "code",
      "source": [
        "!pip install keras_tuner"
      ],
      "metadata": {
        "colab": {
          "base_uri": "https://localhost:8080/"
        },
        "id": "8GDoUYuzFpQC",
        "outputId": "336052c2-a556-4a67-9a22-da2946cbaa88"
      },
      "execution_count": 17,
      "outputs": [
        {
          "output_type": "stream",
          "name": "stdout",
          "text": [
            "Looking in indexes: https://pypi.org/simple, https://us-python.pkg.dev/colab-wheels/public/simple/\n",
            "Requirement already satisfied: keras_tuner in /usr/local/lib/python3.8/dist-packages (1.1.3)\n",
            "Requirement already satisfied: requests in /usr/local/lib/python3.8/dist-packages (from keras_tuner) (2.23.0)\n",
            "Requirement already satisfied: packaging in /usr/local/lib/python3.8/dist-packages (from keras_tuner) (21.3)\n",
            "Requirement already satisfied: ipython in /usr/local/lib/python3.8/dist-packages (from keras_tuner) (7.9.0)\n",
            "Requirement already satisfied: kt-legacy in /usr/local/lib/python3.8/dist-packages (from keras_tuner) (1.0.4)\n",
            "Requirement already satisfied: tensorboard in /usr/local/lib/python3.8/dist-packages (from keras_tuner) (2.9.1)\n",
            "Requirement already satisfied: numpy in /usr/local/lib/python3.8/dist-packages (from keras_tuner) (1.21.6)\n",
            "Requirement already satisfied: jedi>=0.10 in /usr/local/lib/python3.8/dist-packages (from ipython->keras_tuner) (0.18.2)\n",
            "Requirement already satisfied: traitlets>=4.2 in /usr/local/lib/python3.8/dist-packages (from ipython->keras_tuner) (5.1.1)\n",
            "Requirement already satisfied: pygments in /usr/local/lib/python3.8/dist-packages (from ipython->keras_tuner) (2.6.1)\n",
            "Requirement already satisfied: prompt-toolkit<2.1.0,>=2.0.0 in /usr/local/lib/python3.8/dist-packages (from ipython->keras_tuner) (2.0.10)\n",
            "Requirement already satisfied: pexpect in /usr/local/lib/python3.8/dist-packages (from ipython->keras_tuner) (4.8.0)\n",
            "Requirement already satisfied: backcall in /usr/local/lib/python3.8/dist-packages (from ipython->keras_tuner) (0.2.0)\n",
            "Requirement already satisfied: decorator in /usr/local/lib/python3.8/dist-packages (from ipython->keras_tuner) (4.4.2)\n",
            "Requirement already satisfied: setuptools>=18.5 in /usr/local/lib/python3.8/dist-packages (from ipython->keras_tuner) (57.4.0)\n",
            "Requirement already satisfied: pickleshare in /usr/local/lib/python3.8/dist-packages (from ipython->keras_tuner) (0.7.5)\n",
            "Requirement already satisfied: parso<0.9.0,>=0.8.0 in /usr/local/lib/python3.8/dist-packages (from jedi>=0.10->ipython->keras_tuner) (0.8.3)\n",
            "Requirement already satisfied: six>=1.9.0 in /usr/local/lib/python3.8/dist-packages (from prompt-toolkit<2.1.0,>=2.0.0->ipython->keras_tuner) (1.15.0)\n",
            "Requirement already satisfied: wcwidth in /usr/local/lib/python3.8/dist-packages (from prompt-toolkit<2.1.0,>=2.0.0->ipython->keras_tuner) (0.2.5)\n",
            "Requirement already satisfied: pyparsing!=3.0.5,>=2.0.2 in /usr/local/lib/python3.8/dist-packages (from packaging->keras_tuner) (3.0.9)\n",
            "Requirement already satisfied: ptyprocess>=0.5 in /usr/local/lib/python3.8/dist-packages (from pexpect->ipython->keras_tuner) (0.7.0)\n",
            "Requirement already satisfied: chardet<4,>=3.0.2 in /usr/local/lib/python3.8/dist-packages (from requests->keras_tuner) (3.0.4)\n",
            "Requirement already satisfied: certifi>=2017.4.17 in /usr/local/lib/python3.8/dist-packages (from requests->keras_tuner) (2022.9.24)\n",
            "Requirement already satisfied: urllib3!=1.25.0,!=1.25.1,<1.26,>=1.21.1 in /usr/local/lib/python3.8/dist-packages (from requests->keras_tuner) (1.24.3)\n",
            "Requirement already satisfied: idna<3,>=2.5 in /usr/local/lib/python3.8/dist-packages (from requests->keras_tuner) (2.10)\n",
            "Requirement already satisfied: absl-py>=0.4 in /usr/local/lib/python3.8/dist-packages (from tensorboard->keras_tuner) (1.3.0)\n",
            "Requirement already satisfied: google-auth-oauthlib<0.5,>=0.4.1 in /usr/local/lib/python3.8/dist-packages (from tensorboard->keras_tuner) (0.4.6)\n",
            "Requirement already satisfied: google-auth<3,>=1.6.3 in /usr/local/lib/python3.8/dist-packages (from tensorboard->keras_tuner) (2.14.1)\n",
            "Requirement already satisfied: tensorboard-plugin-wit>=1.6.0 in /usr/local/lib/python3.8/dist-packages (from tensorboard->keras_tuner) (1.8.1)\n",
            "Requirement already satisfied: grpcio>=1.24.3 in /usr/local/lib/python3.8/dist-packages (from tensorboard->keras_tuner) (1.50.0)\n",
            "Requirement already satisfied: protobuf<3.20,>=3.9.2 in /usr/local/lib/python3.8/dist-packages (from tensorboard->keras_tuner) (3.19.6)\n",
            "Requirement already satisfied: tensorboard-data-server<0.7.0,>=0.6.0 in /usr/local/lib/python3.8/dist-packages (from tensorboard->keras_tuner) (0.6.1)\n",
            "Requirement already satisfied: werkzeug>=1.0.1 in /usr/local/lib/python3.8/dist-packages (from tensorboard->keras_tuner) (1.0.1)\n",
            "Requirement already satisfied: wheel>=0.26 in /usr/local/lib/python3.8/dist-packages (from tensorboard->keras_tuner) (0.38.4)\n",
            "Requirement already satisfied: markdown>=2.6.8 in /usr/local/lib/python3.8/dist-packages (from tensorboard->keras_tuner) (3.4.1)\n",
            "Requirement already satisfied: cachetools<6.0,>=2.0.0 in /usr/local/lib/python3.8/dist-packages (from google-auth<3,>=1.6.3->tensorboard->keras_tuner) (5.2.0)\n",
            "Requirement already satisfied: rsa<5,>=3.1.4 in /usr/local/lib/python3.8/dist-packages (from google-auth<3,>=1.6.3->tensorboard->keras_tuner) (4.9)\n",
            "Requirement already satisfied: pyasn1-modules>=0.2.1 in /usr/local/lib/python3.8/dist-packages (from google-auth<3,>=1.6.3->tensorboard->keras_tuner) (0.2.8)\n",
            "Requirement already satisfied: requests-oauthlib>=0.7.0 in /usr/local/lib/python3.8/dist-packages (from google-auth-oauthlib<0.5,>=0.4.1->tensorboard->keras_tuner) (1.3.1)\n",
            "Requirement already satisfied: importlib-metadata>=4.4 in /usr/local/lib/python3.8/dist-packages (from markdown>=2.6.8->tensorboard->keras_tuner) (4.13.0)\n",
            "Requirement already satisfied: zipp>=0.5 in /usr/local/lib/python3.8/dist-packages (from importlib-metadata>=4.4->markdown>=2.6.8->tensorboard->keras_tuner) (3.10.0)\n",
            "Requirement already satisfied: pyasn1<0.5.0,>=0.4.6 in /usr/local/lib/python3.8/dist-packages (from pyasn1-modules>=0.2.1->google-auth<3,>=1.6.3->tensorboard->keras_tuner) (0.4.8)\n",
            "Requirement already satisfied: oauthlib>=3.0.0 in /usr/local/lib/python3.8/dist-packages (from requests-oauthlib>=0.7.0->google-auth-oauthlib<0.5,>=0.4.1->tensorboard->keras_tuner) (3.2.2)\n"
          ]
        }
      ]
    },
    {
      "cell_type": "code",
      "source": [
        "data = pd.read_csv('/content/Cycle2 Data BTP - data_cycle2.csv')"
      ],
      "metadata": {
        "id": "2eKoEahcj1jf"
      },
      "execution_count": 18,
      "outputs": []
    },
    {
      "cell_type": "code",
      "source": [
        "plt.figure(figsize=(12,8))\n",
        "plt.plot(data['Voltage'])\n",
        "plt.plot(data['Current'])\n",
        "plt.show()"
      ],
      "metadata": {
        "colab": {
          "base_uri": "https://localhost:8080/",
          "height": 483
        },
        "id": "MYFvhrU7FUrI",
        "outputId": "d38c5997-2acd-429b-bf4c-db39a5ce8666"
      },
      "execution_count": 19,
      "outputs": [
        {
          "output_type": "display_data",
          "data": {
            "text/plain": [
              "<Figure size 864x576 with 1 Axes>"
            ],
            "image/png": "[encoded data removed]"
          },
          "metadata": {
            "needs_background": "light"
          }
        }
      ]
    },
    {
      "cell_type": "code",
      "source": [
        "data"
      ],
      "metadata": {
        "colab": {
          "base_uri": "https://localhost:8080/",
          "height": 424
        },
        "id": "uuoKZKmej8UW",
        "outputId": "feb46aca-d500-4cae-b98e-6ad0c0a92c9c"
      },
      "execution_count": 20,
      "outputs": [
        {
          "output_type": "execute_result",
          "data": {
            "text/plain": [
              "               Time       Voltage       Current\n",
              "0      5.310000e-30  2.600000e-24  3.950000e-33\n",
              "1      1.960000e-10  9.600000e-05  1.460000e-13\n",
              "2      5.310000e-10  2.598223e-04  7.910000e-13\n",
              "3      1.520000e-09  7.428029e-04  5.570000e-12\n",
              "4      2.750000e-09  1.346306e-03  1.400000e-11\n",
              "...             ...           ...           ...\n",
              "22478  9.996934e+02  4.534165e+02  1.179222e+01\n",
              "22479  9.997651e+02  4.530892e+02  1.228517e+01\n",
              "22480  9.998545e+02  4.527698e+02  1.277799e+01\n",
              "22481  9.999439e+02  4.525409e+02  1.313626e+01\n",
              "22482  1.000000e+03  4.524413e+02  1.329179e+01\n",
              "\n",
              "[22483 rows x 3 columns]"
            ],
            "text/html": [
              "\n",
              "  <div id=\"df-3a6a8f8f-c892-46a6-9654-072ce8d4f7f2\">\n",
              "    <div class=\"colab-df-container\">\n",
              "      <div>\n",
              "<style scoped>\n",
              "    .dataframe tbody tr th:only-of-type {\n",
              "        vertical-align: middle;\n",
              "    }\n",
              "\n",
              "    .dataframe tbody tr th {\n",
              "        vertical-align: top;\n",
              "    }\n",
              "\n",
              "    .dataframe thead th {\n",
              "        text-align: right;\n",
              "    }\n",
              "</style>\n",
              "<table border=\"1\" class=\"dataframe\">\n",
              "  <thead>\n",
              "    <tr style=\"text-align: right;\">\n",
              "      <th></th>\n",
              "      <th>Time</th>\n",
              "      <th>Voltage</th>\n",
              "      <th>Current</th>\n",
              "    </tr>\n",
              "  </thead>\n",
              "  <tbody>\n",
              "    <tr>\n",
              "      <th>0</th>\n",
              "      <td>5.310000e-30</td>\n",
              "      <td>2.600000e-24</td>\n",
              "      <td>3.950000e-33</td>\n",
              "    </tr>\n",
              "    <tr>\n",
              "      <th>1</th>\n",
              "      <td>1.960000e-10</td>\n",
              "      <td>9.600000e-05</td>\n",
              "      <td>1.460000e-13</td>\n",
              "    </tr>\n",
              "    <tr>\n",
              "      <th>2</th>\n",
              "      <td>5.310000e-10</td>\n",
              "      <td>2.598223e-04</td>\n",
              "      <td>7.910000e-13</td>\n",
              "    </tr>\n",
              "    <tr>\n",
              "      <th>3</th>\n",
              "      <td>1.520000e-09</td>\n",
              "      <td>7.428029e-04</td>\n",
              "      <td>5.570000e-12</td>\n",
              "    </tr>\n",
              "    <tr>\n",
              "      <th>4</th>\n",
              "      <td>2.750000e-09</td>\n",
              "      <td>1.346306e-03</td>\n",
              "      <td>1.400000e-11</td>\n",
              "    </tr>\n",
              "    <tr>\n",
              "      <th>...</th>\n",
              "      <td>...</td>\n",
              "      <td>...</td>\n",
              "      <td>...</td>\n",
              "    </tr>\n",
              "    <tr>\n",
              "      <th>22478</th>\n",
              "      <td>9.996934e+02</td>\n",
              "      <td>4.534165e+02</td>\n",
              "      <td>1.179222e+01</td>\n",
              "    </tr>\n",
              "    <tr>\n",
              "      <th>22479</th>\n",
              "      <td>9.997651e+02</td>\n",
              "      <td>4.530892e+02</td>\n",
              "      <td>1.228517e+01</td>\n",
              "    </tr>\n",
              "    <tr>\n",
              "      <th>22480</th>\n",
              "      <td>9.998545e+02</td>\n",
              "      <td>4.527698e+02</td>\n",
              "      <td>1.277799e+01</td>\n",
              "    </tr>\n",
              "    <tr>\n",
              "      <th>22481</th>\n",
              "      <td>9.999439e+02</td>\n",
              "      <td>4.525409e+02</td>\n",
              "      <td>1.313626e+01</td>\n",
              "    </tr>\n",
              "    <tr>\n",
              "      <th>22482</th>\n",
              "      <td>1.000000e+03</td>\n",
              "      <td>4.524413e+02</td>\n",
              "      <td>1.329179e+01</td>\n",
              "    </tr>\n",
              "  </tbody>\n",
              "</table>\n",
              "<p>22483 rows × 3 columns</p>\n",
              "</div>\n",
              "      <button class=\"colab-df-convert\" onclick=\"convertToInteractive('df-3a6a8f8f-c892-46a6-9654-072ce8d4f7f2')\"\n",
              "              title=\"Convert this dataframe to an interactive table.\"\n",
              "              style=\"display:none;\">\n",
              "        \n",
              "  <svg xmlns=\"http://www.w3.org/2000/svg\" height=\"24px\"viewBox=\"0 0 24 24\"\n",
              "       width=\"24px\">\n",
              "    <path d=\"M0 0h24v24H0V0z\" fill=\"none\"/>\n",
              "    <path d=\"M18.56 5.44l.94 2.06.94-2.06 2.06-.94-2.06-.94-.94-2.06-.94 2.06-2.06.94zm-11 1L8.5 8.5l.94-2.06 2.06-.94-2.06-.94L8.5 2.5l-.94 2.06-2.06.94zm10 10l.94 2.06.94-2.06 2.06-.94-2.06-.94-.94-2.06-.94 2.06-2.06.94z\"/><path d=\"M17.41 7.96l-1.37-1.37c-.4-.4-.92-.59-1.43-.59-.52 0-1.04.2-1.43.59L10.3 9.45l-7.72 7.72c-.78.78-.78 2.05 0 2.83L4 21.41c.39.39.9.59 1.41.59.51 0 1.02-.2 1.41-.59l7.78-7.78 2.81-2.81c.8-.78.8-2.07 0-2.86zM5.41 20L4 18.59l7.72-7.72 1.47 1.35L5.41 20z\"/>\n",
              "  </svg>\n",
              "      </button>\n",
              "      \n",
              "  <style>\n",
              "    .colab-df-container {\n",
              "      display:flex;\n",
              "      flex-wrap:wrap;\n",
              "      gap: 12px;\n",
              "    }\n",
              "\n",
              "    .colab-df-convert {\n",
              "      background-color: #E8F0FE;\n",
              "      border: none;\n",
              "      border-radius: 50%;\n",
              "      cursor: pointer;\n",
              "      display: none;\n",
              "      fill: #1967D2;\n",
              "      height: 32px;\n",
              "      padding: 0 0 0 0;\n",
              "      width: 32px;\n",
              "    }\n",
              "\n",
              "    .colab-df-convert:hover {\n",
              "      background-color: #E2EBFA;\n",
              "      box-shadow: 0px 1px 2px rgba(60, 64, 67, 0.3), 0px 1px 3px 1px rgba(60, 64, 67, 0.15);\n",
              "      fill: #174EA6;\n",
              "    }\n",
              "\n",
              "    [theme=dark] .colab-df-convert {\n",
              "      background-color: #3B4455;\n",
              "      fill: #D2E3FC;\n",
              "    }\n",
              "\n",
              "    [theme=dark] .colab-df-convert:hover {\n",
              "      background-color: #434B5C;\n",
              "      box-shadow: 0px 1px 3px 1px rgba(0, 0, 0, 0.15);\n",
              "      filter: drop-shadow(0px 1px 2px rgba(0, 0, 0, 0.3));\n",
              "      fill: #FFFFFF;\n",
              "    }\n",
              "  </style>\n",
              "\n",
              "      <script>\n",
              "        const buttonEl =\n",
              "          document.querySelector('#df-3a6a8f8f-c892-46a6-9654-072ce8d4f7f2 button.colab-df-convert');\n",
              "        buttonEl.style.display =\n",
              "          google.colab.kernel.accessAllowed ? 'block' : 'none';\n",
              "\n",
              "        async function convertToInteractive(key) {\n",
              "          const element = document.querySelector('#df-3a6a8f8f-c892-46a6-9654-072ce8d4f7f2');\n",
              "          const dataTable =\n",
              "            await google.colab.kernel.invokeFunction('convertToInteractive',\n",
              "                                                     [key], {});\n",
              "          if (!dataTable) return;\n",
              "\n",
              "          const docLinkHtml = 'Like what you see? Visit the ' +\n",
              "            '<a target=\"_blank\" href=https://colab.research.google.com/notebooks/data_table.ipynb>data table notebook</a>'\n",
              "            + ' to learn more about interactive tables.';\n",
              "          element.innerHTML = '';\n",
              "          dataTable['output_type'] = 'display_data';\n",
              "          await google.colab.output.renderOutput(dataTable, element);\n",
              "          const docLink = document.createElement('div');\n",
              "          docLink.innerHTML = docLinkHtml;\n",
              "          element.appendChild(docLink);\n",
              "        }\n",
              "      </script>\n",
              "    </div>\n",
              "  </div>\n",
              "  "
            ]
          },
          "metadata": {},
          "execution_count": 20
        }
      ]
    },
    {
      "cell_type": "code",
      "source": [
        "def evaluation(y, predictions):\n",
        "    mae = mean_absolute_error(y, predictions)\n",
        "    mse = mean_squared_error(y, predictions)\n",
        "    rmse = np.sqrt(mean_squared_error(y, predictions))\n",
        "    r_squared = r2_score(y, predictions)\n",
        "    return mae, mse, rmse, r_squared"
      ],
      "metadata": {
        "id": "7E_LObxRTH_-"
      },
      "execution_count": 21,
      "outputs": []
    },
    {
      "cell_type": "code",
      "source": [
        "data = data.drop('Time',axis=1)\n",
        "X = data.drop(\"Voltage\",axis=1)\n",
        "y=data['Voltage']\n",
        "\n",
        "X_train, X_test, y_train, y_test = train_test_split(X, y, test_size=0.25, random_state=42)"
      ],
      "metadata": {
        "id": "_RTNWWaSUQ_V"
      },
      "execution_count": 22,
      "outputs": []
    },
    {
      "cell_type": "code",
      "source": [
        "data"
      ],
      "metadata": {
        "colab": {
          "base_uri": "https://localhost:8080/",
          "height": 424
        },
        "id": "a0HuAg5bTIyv",
        "outputId": "ed420470-b9f1-469b-ba18-3ff2d66c9a9b"
      },
      "execution_count": 23,
      "outputs": [
        {
          "output_type": "execute_result",
          "data": {
            "text/plain": [
              "            Voltage       Current\n",
              "0      2.600000e-24  3.950000e-33\n",
              "1      9.600000e-05  1.460000e-13\n",
              "2      2.598223e-04  7.910000e-13\n",
              "3      7.428029e-04  5.570000e-12\n",
              "4      1.346306e-03  1.400000e-11\n",
              "...             ...           ...\n",
              "22478  4.534165e+02  1.179222e+01\n",
              "22479  4.530892e+02  1.228517e+01\n",
              "22480  4.527698e+02  1.277799e+01\n",
              "22481  4.525409e+02  1.313626e+01\n",
              "22482  4.524413e+02  1.329179e+01\n",
              "\n",
              "[22483 rows x 2 columns]"
            ],
            "text/html": [
              "\n",
              "  <div id=\"df-93e95135-3e5b-47f5-8f61-48fc8969e7e5\">\n",
              "    <div class=\"colab-df-container\">\n",
              "      <div>\n",
              "<style scoped>\n",
              "    .dataframe tbody tr th:only-of-type {\n",
              "        vertical-align: middle;\n",
              "    }\n",
              "\n",
              "    .dataframe tbody tr th {\n",
              "        vertical-align: top;\n",
              "    }\n",
              "\n",
              "    .dataframe thead th {\n",
              "        text-align: right;\n",
              "    }\n",
              "</style>\n",
              "<table border=\"1\" class=\"dataframe\">\n",
              "  <thead>\n",
              "    <tr style=\"text-align: right;\">\n",
              "      <th></th>\n",
              "      <th>Voltage</th>\n",
              "      <th>Current</th>\n",
              "    </tr>\n",
              "  </thead>\n",
              "  <tbody>\n",
              "    <tr>\n",
              "      <th>0</th>\n",
              "      <td>2.600000e-24</td>\n",
              "      <td>3.950000e-33</td>\n",
              "    </tr>\n",
              "    <tr>\n",
              "      <th>1</th>\n",
              "      <td>9.600000e-05</td>\n",
              "      <td>1.460000e-13</td>\n",
              "    </tr>\n",
              "    <tr>\n",
              "      <th>2</th>\n",
              "      <td>2.598223e-04</td>\n",
              "      <td>7.910000e-13</td>\n",
              "    </tr>\n",
              "    <tr>\n",
              "      <th>3</th>\n",
              "      <td>7.428029e-04</td>\n",
              "      <td>5.570000e-12</td>\n",
              "    </tr>\n",
              "    <tr>\n",
              "      <th>4</th>\n",
              "      <td>1.346306e-03</td>\n",
              "      <td>1.400000e-11</td>\n",
              "    </tr>\n",
              "    <tr>\n",
              "      <th>...</th>\n",
              "      <td>...</td>\n",
              "      <td>...</td>\n",
              "    </tr>\n",
              "    <tr>\n",
              "      <th>22478</th>\n",
              "      <td>4.534165e+02</td>\n",
              "      <td>1.179222e+01</td>\n",
              "    </tr>\n",
              "    <tr>\n",
              "      <th>22479</th>\n",
              "      <td>4.530892e+02</td>\n",
              "      <td>1.228517e+01</td>\n",
              "    </tr>\n",
              "    <tr>\n",
              "      <th>22480</th>\n",
              "      <td>4.527698e+02</td>\n",
              "      <td>1.277799e+01</td>\n",
              "    </tr>\n",
              "    <tr>\n",
              "      <th>22481</th>\n",
              "      <td>4.525409e+02</td>\n",
              "      <td>1.313626e+01</td>\n",
              "    </tr>\n",
              "    <tr>\n",
              "      <th>22482</th>\n",
              "      <td>4.524413e+02</td>\n",
              "      <td>1.329179e+01</td>\n",
              "    </tr>\n",
              "  </tbody>\n",
              "</table>\n",
              "<p>22483 rows × 2 columns</p>\n",
              "</div>\n",
              "      <button class=\"colab-df-convert\" onclick=\"convertToInteractive('df-93e95135-3e5b-47f5-8f61-48fc8969e7e5')\"\n",
              "              title=\"Convert this dataframe to an interactive table.\"\n",
              "              style=\"display:none;\">\n",
              "        \n",
              "  <svg xmlns=\"http://www.w3.org/2000/svg\" height=\"24px\"viewBox=\"0 0 24 24\"\n",
              "       width=\"24px\">\n",
              "    <path d=\"M0 0h24v24H0V0z\" fill=\"none\"/>\n",
              "    <path d=\"M18.56 5.44l.94 2.06.94-2.06 2.06-.94-2.06-.94-.94-2.06-.94 2.06-2.06.94zm-11 1L8.5 8.5l.94-2.06 2.06-.94-2.06-.94L8.5 2.5l-.94 2.06-2.06.94zm10 10l.94 2.06.94-2.06 2.06-.94-2.06-.94-.94-2.06-.94 2.06-2.06.94z\"/><path d=\"M17.41 7.96l-1.37-1.37c-.4-.4-.92-.59-1.43-.59-.52 0-1.04.2-1.43.59L10.3 9.45l-7.72 7.72c-.78.78-.78 2.05 0 2.83L4 21.41c.39.39.9.59 1.41.59.51 0 1.02-.2 1.41-.59l7.78-7.78 2.81-2.81c.8-.78.8-2.07 0-2.86zM5.41 20L4 18.59l7.72-7.72 1.47 1.35L5.41 20z\"/>\n",
              "  </svg>\n",
              "      </button>\n",
              "      \n",
              "  <style>\n",
              "    .colab-df-container {\n",
              "      display:flex;\n",
              "      flex-wrap:wrap;\n",
              "      gap: 12px;\n",
              "    }\n",
              "\n",
              "    .colab-df-convert {\n",
              "      background-color: #E8F0FE;\n",
              "      border: none;\n",
              "      border-radius: 50%;\n",
              "      cursor: pointer;\n",
              "      display: none;\n",
              "      fill: #1967D2;\n",
              "      height: 32px;\n",
              "      padding: 0 0 0 0;\n",
              "      width: 32px;\n",
              "    }\n",
              "\n",
              "    .colab-df-convert:hover {\n",
              "      background-color: #E2EBFA;\n",
              "      box-shadow: 0px 1px 2px rgba(60, 64, 67, 0.3), 0px 1px 3px 1px rgba(60, 64, 67, 0.15);\n",
              "      fill: #174EA6;\n",
              "    }\n",
              "\n",
              "    [theme=dark] .colab-df-convert {\n",
              "      background-color: #3B4455;\n",
              "      fill: #D2E3FC;\n",
              "    }\n",
              "\n",
              "    [theme=dark] .colab-df-convert:hover {\n",
              "      background-color: #434B5C;\n",
              "      box-shadow: 0px 1px 3px 1px rgba(0, 0, 0, 0.15);\n",
              "      filter: drop-shadow(0px 1px 2px rgba(0, 0, 0, 0.3));\n",
              "      fill: #FFFFFF;\n",
              "    }\n",
              "  </style>\n",
              "\n",
              "      <script>\n",
              "        const buttonEl =\n",
              "          document.querySelector('#df-93e95135-3e5b-47f5-8f61-48fc8969e7e5 button.colab-df-convert');\n",
              "        buttonEl.style.display =\n",
              "          google.colab.kernel.accessAllowed ? 'block' : 'none';\n",
              "\n",
              "        async function convertToInteractive(key) {\n",
              "          const element = document.querySelector('#df-93e95135-3e5b-47f5-8f61-48fc8969e7e5');\n",
              "          const dataTable =\n",
              "            await google.colab.kernel.invokeFunction('convertToInteractive',\n",
              "                                                     [key], {});\n",
              "          if (!dataTable) return;\n",
              "\n",
              "          const docLinkHtml = 'Like what you see? Visit the ' +\n",
              "            '<a target=\"_blank\" href=https://colab.research.google.com/notebooks/data_table.ipynb>data table notebook</a>'\n",
              "            + ' to learn more about interactive tables.';\n",
              "          element.innerHTML = '';\n",
              "          dataTable['output_type'] = 'display_data';\n",
              "          await google.colab.output.renderOutput(dataTable, element);\n",
              "          const docLink = document.createElement('div');\n",
              "          docLink.innerHTML = docLinkHtml;\n",
              "          element.appendChild(docLink);\n",
              "        }\n",
              "      </script>\n",
              "    </div>\n",
              "  </div>\n",
              "  "
            ]
          },
          "metadata": {},
          "execution_count": 23
        }
      ]
    },
    {
      "cell_type": "code",
      "source": [
        "models = []\n",
        "models_mae = []\n",
        "models_mse = []\n",
        "models_rmse = []\n",
        "models_r_squared = []"
      ],
      "metadata": {
        "id": "7xvGTKkXUWi7"
      },
      "execution_count": 24,
      "outputs": []
    },
    {
      "cell_type": "code",
      "source": [
        "#Linear Regression\n",
        "lin_reg = LinearRegression()\n",
        "lin_reg.fit(X_train, y_train)\n",
        "predictions = lin_reg.predict(X_test)\n",
        "\n",
        "mae, mse, rmse, r_squared = evaluation(y_test, predictions)\n",
        "print(\"MAE:\", mae)\n",
        "print(\"MSE:\", mse)\n",
        "print(\"RMSE:\", rmse)\n",
        "print(\"R2 Score:\", r_squared)\n",
        "models.append('Linear Regression')\n",
        "models_mae.append(mae)\n",
        "models_mse.append(mse)\n",
        "models_rmse.append(rmse)\n",
        "models_r_squared.append(r_squared)"
      ],
      "metadata": {
        "colab": {
          "base_uri": "https://localhost:8080/"
        },
        "id": "f_2lgIW4V_eD",
        "outputId": "f5f3db7e-e018-43e1-b528-80f28dd1c90d"
      },
      "execution_count": 25,
      "outputs": [
        {
          "output_type": "stream",
          "name": "stdout",
          "text": [
            "MAE: 11.409346359296496\n",
            "MSE: 1461.0673874698998\n",
            "RMSE: 38.22391120058098\n",
            "R2 Score: 0.08373394916780552\n"
          ]
        }
      ]
    },
    {
      "cell_type": "code",
      "source": [
        "#SVM\n",
        "svr = SVR(C=10)\n",
        "svr.fit(X_train, y_train)\n",
        "predictions = svr.predict(X_test)\n",
        "\n",
        "mae, mse, rmse, r_squared = evaluation(y_test, predictions)\n",
        "print(\"MAE:\", mae)\n",
        "print(\"MSE:\", mse)\n",
        "print(\"RMSE:\", rmse)\n",
        "print(\"R2 Score:\", r_squared)\n",
        "\n",
        "models.append('SVR')\n",
        "models_mae.append(mae)\n",
        "models_mse.append(mse)\n",
        "models_rmse.append(rmse)\n",
        "models_r_squared.append(r_squared)"
      ],
      "metadata": {
        "colab": {
          "base_uri": "https://localhost:8080/"
        },
        "id": "BztdBhHrXHzr",
        "outputId": "7f4fa8e7-2ee4-4969-fea2-41467c65e72d"
      },
      "execution_count": 26,
      "outputs": [
        {
          "output_type": "stream",
          "name": "stdout",
          "text": [
            "MAE: 6.138218408950567\n",
            "MSE: 1444.430835408314\n",
            "RMSE: 38.005668464168785\n",
            "R2 Score: 0.09416708044406408\n"
          ]
        }
      ]
    },
    {
      "cell_type": "code",
      "source": [
        "#Random Forest\n",
        "random_forest = RandomForestRegressor(n_estimators=100)\n",
        "random_forest.fit(X_train, y_train)\n",
        "predictions = random_forest.predict(X_test)\n",
        "\n",
        "mae, mse, rmse, r_squared = evaluation(y_test, predictions)\n",
        "print(\"MAE:\", mae)\n",
        "print(\"MSE:\", mse)\n",
        "print(\"RMSE:\", rmse)\n",
        "print(\"R2 Score:\", r_squared)\n",
        "\n",
        "models.append('Random Forest')\n",
        "models_mae.append(mae)\n",
        "models_mse.append(mse)\n",
        "models_rmse.append(rmse)\n",
        "models_r_squared.append(r_squared)"
      ],
      "metadata": {
        "colab": {
          "base_uri": "https://localhost:8080/"
        },
        "id": "DqtpEqb9X4Gp",
        "outputId": "f28e67de-6518-40d6-cdf0-01d7622e7437"
      },
      "execution_count": 27,
      "outputs": [
        {
          "output_type": "stream",
          "name": "stdout",
          "text": [
            "MAE: 1.6985937835097733\n",
            "MSE: 64.69466538500993\n",
            "RMSE: 8.04329940913615\n",
            "R2 Score: 0.9594286163180448\n"
          ]
        }
      ]
    },
    {
      "cell_type": "code",
      "source": [
        "xgb = XGBRegressor(n_estimators=1000, learning_rate=0.01)\n",
        "xgb.fit(X_train, y_train)\n",
        "predictions = xgb.predict(X_test)\n",
        "\n",
        "mae, mse, rmse, r_squared = evaluation(y_test, predictions)\n",
        "print(\"MAE:\", mae)\n",
        "print(\"MSE:\", mse)\n",
        "print(\"RMSE:\", rmse)\n",
        "print(\"R2 Score:\", r_squared)\n",
        "\n",
        "models.append('XGBRegressor')\n",
        "models_mae.append(mae)\n",
        "models_mse.append(mse)\n",
        "models_rmse.append(rmse)\n",
        "models_r_squared.append(r_squared)"
      ],
      "metadata": {
        "colab": {
          "base_uri": "https://localhost:8080/"
        },
        "id": "DSajSWb9f6XX",
        "outputId": "bdbc000e-97f8-4830-b711-3af1873fc420"
      },
      "execution_count": 28,
      "outputs": [
        {
          "output_type": "stream",
          "name": "stdout",
          "text": [
            "[19:34:07] WARNING: /workspace/src/objective/regression_obj.cu:152: reg:linear is now deprecated in favor of reg:squarederror.\n",
            "MAE: 1.5962311604020099\n",
            "MSE: 32.85323212343329\n",
            "RMSE: 5.731773907215225\n",
            "R2 Score: 0.9793970479986285\n"
          ]
        }
      ]
    },
    {
      "cell_type": "code",
      "source": [
        "import keras_tuner\n",
        "from tensorflow import keras\n",
        "\n",
        "def build_model(hp):\n",
        "  model = keras.Sequential()\n",
        "  model.add(keras.layers.Dense(\n",
        "      hp.Choice('units', [25,50,100,150,200,250,300]),\n",
        "      activation='relu'))\n",
        "  model.add(keras.layers.Dense(\n",
        "      hp.Choice('units', [25,50,100,150,200,250,300]),\n",
        "      activation='relu'))\n",
        "  model.add(keras.layers.Dense(\n",
        "      hp.Choice('units', [25,50,100,150,200,250,300]),\n",
        "      activation='relu'))\n",
        "  model.add(keras.layers.Dense(\n",
        "      hp.Choice('units', [25,50,100,150,200,250,300]),\n",
        "      activation='relu'))\n",
        "  model.add(keras.layers.Dense(1, activation='linear'))\n",
        "  model.compile(optimizer='rmsprop', loss='mse', metrics=['mae'])\n",
        "  return model\n",
        "\n",
        "tuner = keras_tuner.RandomSearch(\n",
        "    build_model,\n",
        "    objective='val_loss',\n",
        "    max_trials=10)\n",
        "\n",
        "tuner.search(X_train, y_train, epochs=500, validation_split=0.2)\n",
        "best_model = tuner.get_best_models()[0]\n",
        "\n",
        "predictions = best_model.predict(X_test)\n",
        "mae, mse, rmse, r_squared = evaluation(y_test, predictions)\n",
        "print(\"MAE:\", mae)\n",
        "print(\"MSE:\", mse)\n",
        "print(\"RMSE:\", rmse)\n",
        "print(\"R2 Score:\", r_squared)\n",
        "\n",
        "models.append('ANN')\n",
        "models_mae.append(mae)\n",
        "models_mse.append(mse)\n",
        "models_rmse.append(rmse)\n",
        "models_r_squared.append(r_squared)\n",
        "\n"
      ],
      "metadata": {
        "colab": {
          "base_uri": "https://localhost:8080/"
        },
        "id": "KdubvmgWE-q3",
        "outputId": "55a3ea1c-cf38-4a94-b901-5c17d05e6d26"
      },
      "execution_count": 15,
      "outputs": [
        {
          "output_type": "stream",
          "name": "stdout",
          "text": [
            "Trial 7 Complete [00h 11m 27s]\n",
            "val_loss: 75.33499908447266\n",
            "\n",
            "Best val_loss So Far: 74.29995727539062\n",
            "Total elapsed time: 01h 49m 18s\n",
            "176/176 [==============================] - 0s 1ms/step\n",
            "MAE: 1.9248235793751616\n",
            "MSE: 24.00831272777705\n",
            "RMSE: 4.899827826340131\n",
            "R2 Score: 0.984943882753883\n"
          ]
        }
      ]
    },
    {
      "cell_type": "code",
      "source": [
        "predictions = best_model.predict(X_test)\n",
        "mae, mse, rmse, r_squared = evaluation(y_test, predictions)\n",
        "print(\"MAE:\", mae)\n",
        "print(\"MSE:\", mse)\n",
        "print(\"RMSE:\", rmse)\n",
        "print(\"R2 Score:\", r_squared)\n",
        "\n",
        "models.append('ANN')\n",
        "models_mae.append(mae)\n",
        "models_mse.append(mse)\n",
        "models_rmse.append(rmse)\n",
        "models_r_squared.append(r_squared)"
      ],
      "metadata": {
        "colab": {
          "base_uri": "https://localhost:8080/"
        },
        "id": "CKAOtabdfCRC",
        "outputId": "4fb093c0-6062-4c8e-8333-4237c40651e5"
      },
      "execution_count": 33,
      "outputs": [
        {
          "output_type": "stream",
          "name": "stdout",
          "text": [
            "176/176 [==============================] - 1s 3ms/step\n",
            "MAE: 1.9248235793751616\n",
            "MSE: 24.00831272777705\n",
            "RMSE: 4.899827826340131\n",
            "R2 Score: 0.984943882753883\n"
          ]
        }
      ]
    },
    {
      "cell_type": "code",
      "source": [
        "best_model.summary()"
      ],
      "metadata": {
        "colab": {
          "base_uri": "https://localhost:8080/"
        },
        "id": "eUn_2lAdflsC",
        "outputId": "0d19ed35-2325-446b-a662-180babdef559"
      },
      "execution_count": 38,
      "outputs": [
        {
          "output_type": "stream",
          "name": "stdout",
          "text": [
            "Model: \"sequential\"\n",
            "_________________________________________________________________\n",
            " Layer (type)                Output Shape              Param #   \n",
            "=================================================================\n",
            " dense (Dense)               (None, 25)                50        \n",
            "                                                                 \n",
            " dense_1 (Dense)             (None, 25)                650       \n",
            "                                                                 \n",
            " dense_2 (Dense)             (None, 25)                650       \n",
            "                                                                 \n",
            " dense_3 (Dense)             (None, 25)                650       \n",
            "                                                                 \n",
            " dense_4 (Dense)             (None, 1)                 26        \n",
            "                                                                 \n",
            "=================================================================\n",
            "Total params: 2,026\n",
            "Trainable params: 2,026\n",
            "Non-trainable params: 0\n",
            "_________________________________________________________________\n"
          ]
        }
      ]
    },
    {
      "cell_type": "code",
      "source": [
        " \n",
        "fig = plt.figure(figsize = (10, 5))\n",
        " \n",
        "# creating the bar plot\n",
        "plt.bar(models, models_rmse,\n",
        "        width = 0.4)\n",
        " \n",
        "plt.xlabel(\"Models\")\n",
        "plt.ylabel(\"RMSE\")\n",
        "plt.title(\"Model RMSE\")\n",
        "plt.show()"
      ],
      "metadata": {
        "colab": {
          "base_uri": "https://localhost:8080/",
          "height": 350
        },
        "id": "AVAJRmTknLag",
        "outputId": "145e765c-1d08-4d06-8e66-07918e24a3db"
      },
      "execution_count": 34,
      "outputs": [
        {
          "output_type": "display_data",
          "data": {
            "text/plain": [
              "<Figure size 720x360 with 1 Axes>"
            ],
            "image/png": "[encoded data removed]"
          },
          "metadata": {
            "needs_background": "light"
          }
        }
      ]
    },
    {
      "cell_type": "code",
      "source": [
        "for i in range (0, 5):\n",
        "  print('The RMSE for '+models[i]+' is '+ str(models_rmse[i]))\n",
        "  print('\\n')"
      ],
      "metadata": {
        "colab": {
          "base_uri": "https://localhost:8080/"
        },
        "id": "Eo0zxjulxbir",
        "outputId": "d9664adf-486c-4065-c347-7fc43c771266"
      },
      "execution_count": 35,
      "outputs": [
        {
          "output_type": "stream",
          "name": "stdout",
          "text": [
            "The RMSE for Linear Regression is 38.22391120058098\n",
            "\n",
            "\n",
            "The RMSE for SVR is 38.005668464168785\n",
            "\n",
            "\n",
            "The RMSE for Random Forest is 8.04329940913615\n",
            "\n",
            "\n",
            "The RMSE for XGBRegressor is 5.731773907215225\n",
            "\n",
            "\n",
            "The RMSE for ANN is 4.899827826340131\n",
            "\n",
            "\n"
          ]
        }
      ]
    },
    {
      "cell_type": "code",
      "source": [
        "fig = plt.figure(figsize = (10, 5))\n",
        " \n",
        "# creating the bar plot\n",
        "plt.bar(models, models_r_squared,\n",
        "        width = 0.4)\n",
        " \n",
        "plt.xlabel(\"Models\")\n",
        "plt.ylabel(\"R Squared Score\")\n",
        "plt.title(\"Model R Squared Score\")\n",
        "plt.show()"
      ],
      "metadata": {
        "colab": {
          "base_uri": "https://localhost:8080/",
          "height": 350
        },
        "id": "J_TzZu0ExiHJ",
        "outputId": "701ee4cc-ba1c-4557-989b-ec6f354a6260"
      },
      "execution_count": 36,
      "outputs": [
        {
          "output_type": "display_data",
          "data": {
            "text/plain": [
              "<Figure size 720x360 with 1 Axes>"
            ],
            "image/png": "[encoded data removed]"
          },
          "metadata": {
            "needs_background": "light"
          }
        }
      ]
    },
    {
      "cell_type": "code",
      "source": [
        "for i in range (0, 5):\n",
        "  print('The R-Squared Score for '+models[i]+' is '+ str(models_r_squared[i]))\n",
        "  print('\\n')\n"
      ],
      "metadata": {
        "id": "J1FYxpj8zTwO",
        "colab": {
          "base_uri": "https://localhost:8080/"
        },
        "outputId": "77e65347-066a-4da3-db12-769125dce32e"
      },
      "execution_count": 37,
      "outputs": [
        {
          "output_type": "stream",
          "name": "stdout",
          "text": [
            "The R-Squared Score for Linear Regression is 0.08373394916780552\n",
            "\n",
            "\n",
            "The R-Squared Score for SVR is 0.09416708044406408\n",
            "\n",
            "\n",
            "The R-Squared Score for Random Forest is 0.9594286163180448\n",
            "\n",
            "\n",
            "The R-Squared Score for XGBRegressor is 0.9793970479986285\n",
            "\n",
            "\n",
            "The R-Squared Score for ANN is 0.984943882753883\n",
            "\n",
            "\n"
          ]
        }
      ]
    },
    {
      "cell_type": "code",
      "source": [],
      "metadata": {
        "id": "4WkVLITGfHyH"
      },
      "execution_count": null,
      "outputs": []
    }
  ]
}